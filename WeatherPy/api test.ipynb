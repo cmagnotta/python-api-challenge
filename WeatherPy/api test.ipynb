{
 "cells": [
  {
   "cell_type": "code",
   "execution_count": 1,
   "metadata": {},
   "outputs": [],
   "source": [
    "import json\n",
    "import requests\n"
   ]
  },
  {
   "cell_type": "code",
   "execution_count": 2,
   "metadata": {},
   "outputs": [],
   "source": [
    "url = \"https://api.spacexdata.com/v3/launchpads\""
   ]
  },
  {
   "cell_type": "code",
   "execution_count": 3,
   "metadata": {},
   "outputs": [],
   "source": [
    "space_data = requests.get(url).json()"
   ]
  },
  {
   "cell_type": "code",
   "execution_count": 4,
   "metadata": {},
   "outputs": [
    {
     "data": {
      "text/plain": [
       "[{'id': 5,\n",
       "  'name': 'VAFB SLC 3W',\n",
       "  'status': 'retired',\n",
       "  'location': {'name': 'Vandenberg Air Force Base',\n",
       "   'region': 'California',\n",
       "   'latitude': 34.6440904,\n",
       "   'longitude': -120.5931438},\n",
       "  'vehicles_launched': ['Falcon 1'],\n",
       "  'attempted_launches': 0,\n",
       "  'successful_launches': 0,\n",
       "  'wikipedia': 'https://en.wikipedia.org/wiki/Vandenberg_AFB_Space_Launch_Complex_3',\n",
       "  'details': 'SpaceX original west coast launch pad for Falcon 1. Performed a static fire but was never used for a launch and abandoned due to scheduling conflicts.',\n",
       "  'site_id': 'vafb_slc_3w',\n",
       "  'site_name_long': 'Vandenberg Air Force Base Space Launch Complex 3W'},\n",
       " {'id': 2,\n",
       "  'name': 'CCAFS SLC 40',\n",
       "  'status': 'active',\n",
       "  'location': {'name': 'Cape Canaveral',\n",
       "   'region': 'Florida',\n",
       "   'latitude': 28.5618571,\n",
       "   'longitude': -80.577366},\n",
       "  'vehicles_launched': ['Falcon 9'],\n",
       "  'attempted_launches': 58,\n",
       "  'successful_launches': 56,\n",
       "  'wikipedia': 'https://en.wikipedia.org/wiki/Cape_Canaveral_Air_Force_Station_Space_Launch_Complex_40',\n",
       "  'details': 'SpaceX primary Falcon 9 launch pad, where all east coast Falcon 9s launched prior to the AMOS-6 anomaly. Initially used to launch Titan rockets for Lockheed Martin. Back online since CRS-13 on 2017-12-15.',\n",
       "  'site_id': 'ccafs_slc_40',\n",
       "  'site_name_long': 'Cape Canaveral Air Force Station Space Launch Complex 40'},\n",
       " {'id': 8,\n",
       "  'name': 'STLS',\n",
       "  'status': 'under construction',\n",
       "  'location': {'name': 'Boca Chica Village',\n",
       "   'region': 'Texas',\n",
       "   'latitude': 25.9972641,\n",
       "   'longitude': -97.1560845},\n",
       "  'vehicles_launched': ['Falcon 9'],\n",
       "  'attempted_launches': 0,\n",
       "  'successful_launches': 0,\n",
       "  'wikipedia': 'https://en.wikipedia.org/wiki/SpaceX_South_Texas_Launch_Site',\n",
       "  'details': 'SpaceX new launch site currently under construction to help keep up with the Falcon 9 and Heavy manifests. Expected to be completed in late 2018. Initially will be limited to 12 flights per year, and only GTO launches.',\n",
       "  'site_id': 'stls',\n",
       "  'site_name_long': 'SpaceX South Texas Launch Site'},\n",
       " {'id': 1,\n",
       "  'name': 'Kwajalein Atoll',\n",
       "  'status': 'retired',\n",
       "  'location': {'name': 'Omelek Island',\n",
       "   'region': 'Marshall Islands',\n",
       "   'latitude': 9.0477206,\n",
       "   'longitude': 167.7431292},\n",
       "  'vehicles_launched': ['Falcon 1'],\n",
       "  'attempted_launches': 5,\n",
       "  'successful_launches': 2,\n",
       "  'wikipedia': 'https://en.wikipedia.org/wiki/Omelek_Island',\n",
       "  'details': 'SpaceX original launch site, where all of the Falcon 1 launches occured. Abandoned as SpaceX decided against upgrading the pad to support Falcon 9.',\n",
       "  'site_id': 'kwajalein_atoll',\n",
       "  'site_name_long': 'Kwajalein Atoll Omelek Island'},\n",
       " {'id': 6,\n",
       "  'name': 'VAFB SLC 4E',\n",
       "  'status': 'active',\n",
       "  'location': {'name': 'Vandenberg Air Force Base',\n",
       "   'region': 'California',\n",
       "   'latitude': 34.632093,\n",
       "   'longitude': -120.610829},\n",
       "  'vehicles_launched': ['Falcon 9'],\n",
       "  'attempted_launches': 15,\n",
       "  'successful_launches': 15,\n",
       "  'wikipedia': 'https://en.wikipedia.org/wiki/Vandenberg_AFB_Space_Launch_Complex_4',\n",
       "  'details': 'SpaceX primary west coast launch pad for polar orbits and sun synchronous orbits, primarily used for Iridium. Also intended to be capable of launching Falcon Heavy.',\n",
       "  'site_id': 'vafb_slc_4e',\n",
       "  'site_name_long': 'Vandenberg Air Force Base Space Launch Complex 4E'},\n",
       " {'id': 4,\n",
       "  'name': 'KSC LC 39A',\n",
       "  'status': 'active',\n",
       "  'location': {'name': 'Cape Canaveral',\n",
       "   'region': 'Florida',\n",
       "   'latitude': 28.6080585,\n",
       "   'longitude': -80.6039558},\n",
       "  'vehicles_launched': ['Falcon 9', 'Falcon Heavy'],\n",
       "  'attempted_launches': 26,\n",
       "  'successful_launches': 25,\n",
       "  'wikipedia': 'https://en.wikipedia.org/wiki/Kennedy_Space_Center_Launch_Complex_39#Launch_Complex_39A',\n",
       "  'details': 'NASA historic launch pad that launched most of the Saturn V and Space Shuttle missions. Initially for Falcon Heavy launches, it is now launching all of SpaceX east coast missions due to the damage from the AMOS-6 anomaly. After SLC-40 repairs are complete, it will be upgraded to support Falcon Heavy, a process which will take about two months. In the future it will launch commercial crew missions and the Interplanetary Transport System.',\n",
       "  'site_id': 'ksc_lc_39a',\n",
       "  'site_name_long': 'Kennedy Space Center Historic Launch Complex 39A'}]"
      ]
     },
     "execution_count": 4,
     "metadata": {},
     "output_type": "execute_result"
    }
   ],
   "source": [
    "space_data"
   ]
  },
  {
   "cell_type": "code",
   "execution_count": 5,
   "metadata": {},
   "outputs": [
    {
     "data": {
      "text/plain": [
       "'[{\"id\": 5, \"name\": \"VAFB SLC 3W\", \"status\": \"retired\", \"location\": {\"name\": \"Vandenberg Air Force Base\", \"region\": \"California\", \"latitude\": 34.6440904, \"longitude\": -120.5931438}, \"vehicles_launched\": [\"Falcon 1\"], \"attempted_launches\": 0, \"successful_launches\": 0, \"wikipedia\": \"https://en.wikipedia.org/wiki/Vandenberg_AFB_Space_Launch_Complex_3\", \"details\": \"SpaceX original west coast launch pad for Falcon 1. Performed a static fire but was never used for a launch and abandoned due to scheduling conflicts.\", \"site_id\": \"vafb_slc_3w\", \"site_name_long\": \"Vandenberg Air Force Base Space Launch Complex 3W\"}, {\"id\": 2, \"name\": \"CCAFS SLC 40\", \"status\": \"active\", \"location\": {\"name\": \"Cape Canaveral\", \"region\": \"Florida\", \"latitude\": 28.5618571, \"longitude\": -80.577366}, \"vehicles_launched\": [\"Falcon 9\"], \"attempted_launches\": 58, \"successful_launches\": 56, \"wikipedia\": \"https://en.wikipedia.org/wiki/Cape_Canaveral_Air_Force_Station_Space_Launch_Complex_40\", \"details\": \"SpaceX primary Falcon 9 launch pad, where all east coast Falcon 9s launched prior to the AMOS-6 anomaly. Initially used to launch Titan rockets for Lockheed Martin. Back online since CRS-13 on 2017-12-15.\", \"site_id\": \"ccafs_slc_40\", \"site_name_long\": \"Cape Canaveral Air Force Station Space Launch Complex 40\"}, {\"id\": 8, \"name\": \"STLS\", \"status\": \"under construction\", \"location\": {\"name\": \"Boca Chica Village\", \"region\": \"Texas\", \"latitude\": 25.9972641, \"longitude\": -97.1560845}, \"vehicles_launched\": [\"Falcon 9\"], \"attempted_launches\": 0, \"successful_launches\": 0, \"wikipedia\": \"https://en.wikipedia.org/wiki/SpaceX_South_Texas_Launch_Site\", \"details\": \"SpaceX new launch site currently under construction to help keep up with the Falcon 9 and Heavy manifests. Expected to be completed in late 2018. Initially will be limited to 12 flights per year, and only GTO launches.\", \"site_id\": \"stls\", \"site_name_long\": \"SpaceX South Texas Launch Site\"}, {\"id\": 1, \"name\": \"Kwajalein Atoll\", \"status\": \"retired\", \"location\": {\"name\": \"Omelek Island\", \"region\": \"Marshall Islands\", \"latitude\": 9.0477206, \"longitude\": 167.7431292}, \"vehicles_launched\": [\"Falcon 1\"], \"attempted_launches\": 5, \"successful_launches\": 2, \"wikipedia\": \"https://en.wikipedia.org/wiki/Omelek_Island\", \"details\": \"SpaceX original launch site, where all of the Falcon 1 launches occured. Abandoned as SpaceX decided against upgrading the pad to support Falcon 9.\", \"site_id\": \"kwajalein_atoll\", \"site_name_long\": \"Kwajalein Atoll Omelek Island\"}, {\"id\": 6, \"name\": \"VAFB SLC 4E\", \"status\": \"active\", \"location\": {\"name\": \"Vandenberg Air Force Base\", \"region\": \"California\", \"latitude\": 34.632093, \"longitude\": -120.610829}, \"vehicles_launched\": [\"Falcon 9\"], \"attempted_launches\": 15, \"successful_launches\": 15, \"wikipedia\": \"https://en.wikipedia.org/wiki/Vandenberg_AFB_Space_Launch_Complex_4\", \"details\": \"SpaceX primary west coast launch pad for polar orbits and sun synchronous orbits, primarily used for Iridium. Also intended to be capable of launching Falcon Heavy.\", \"site_id\": \"vafb_slc_4e\", \"site_name_long\": \"Vandenberg Air Force Base Space Launch Complex 4E\"}, {\"id\": 4, \"name\": \"KSC LC 39A\", \"status\": \"active\", \"location\": {\"name\": \"Cape Canaveral\", \"region\": \"Florida\", \"latitude\": 28.6080585, \"longitude\": -80.6039558}, \"vehicles_launched\": [\"Falcon 9\", \"Falcon Heavy\"], \"attempted_launches\": 26, \"successful_launches\": 25, \"wikipedia\": \"https://en.wikipedia.org/wiki/Kennedy_Space_Center_Launch_Complex_39#Launch_Complex_39A\", \"details\": \"NASA historic launch pad that launched most of the Saturn V and Space Shuttle missions. Initially for Falcon Heavy launches, it is now launching all of SpaceX east coast missions due to the damage from the AMOS-6 anomaly. After SLC-40 repairs are complete, it will be upgraded to support Falcon Heavy, a process which will take about two months. In the future it will launch commercial crew missions and the Interplanetary Transport System.\", \"site_id\": \"ksc_lc_39a\", \"site_name_long\": \"Kennedy Space Center Historic Launch Complex 39A\"}]'"
      ]
     },
     "execution_count": 5,
     "metadata": {},
     "output_type": "execute_result"
    }
   ],
   "source": [
    "json.dumps(space_data)   #Here I am UNformatting the data"
   ]
  },
  {
   "cell_type": "code",
   "execution_count": 6,
   "metadata": {},
   "outputs": [
    {
     "data": {
      "text/plain": [
       "list"
      ]
     },
     "execution_count": 6,
     "metadata": {},
     "output_type": "execute_result"
    }
   ],
   "source": [
    "type(space_data)"
   ]
  },
  {
   "cell_type": "code",
   "execution_count": 7,
   "metadata": {},
   "outputs": [
    {
     "data": {
      "text/plain": [
       "'Kwajalein Atoll'"
      ]
     },
     "execution_count": 7,
     "metadata": {},
     "output_type": "execute_result"
    }
   ],
   "source": [
    "space_data[3]['name']"
   ]
  },
  {
   "cell_type": "code",
   "execution_count": 8,
   "metadata": {},
   "outputs": [
    {
     "ename": "TypeError",
     "evalue": "list indices must be integers or slices, not str",
     "output_type": "error",
     "traceback": [
      "\u001b[0;31m---------------------------------------------------------------------------\u001b[0m",
      "\u001b[0;31mTypeError\u001b[0m                                 Traceback (most recent call last)",
      "\u001b[0;32m<ipython-input-8-b157180d06e4>\u001b[0m in \u001b[0;36m<module>\u001b[0;34m\u001b[0m\n\u001b[0;32m----> 1\u001b[0;31m \u001b[0mspace_data\u001b[0m\u001b[0;34m[\u001b[0m\u001b[0;34m'successful_launches'\u001b[0m\u001b[0;34m]\u001b[0m\u001b[0;34m\u001b[0m\u001b[0;34m\u001b[0m\u001b[0m\n\u001b[0m",
      "\u001b[0;31mTypeError\u001b[0m: list indices must be integers or slices, not str"
     ]
    }
   ],
   "source": [
    "space_data['successful_launches']"
   ]
  },
  {
   "cell_type": "code",
   "execution_count": 9,
   "metadata": {},
   "outputs": [],
   "source": [
    "from pandas import DataFrame"
   ]
  },
  {
   "cell_type": "code",
   "execution_count": 10,
   "metadata": {},
   "outputs": [],
   "source": [
    "space_dataDF = DataFrame(space_data,columns=['Name'])"
   ]
  },
  {
   "cell_type": "code",
   "execution_count": 11,
   "metadata": {},
   "outputs": [
    {
     "data": {
      "text/html": [
       "<div>\n",
       "<style scoped>\n",
       "    .dataframe tbody tr th:only-of-type {\n",
       "        vertical-align: middle;\n",
       "    }\n",
       "\n",
       "    .dataframe tbody tr th {\n",
       "        vertical-align: top;\n",
       "    }\n",
       "\n",
       "    .dataframe thead th {\n",
       "        text-align: right;\n",
       "    }\n",
       "</style>\n",
       "<table border=\"1\" class=\"dataframe\">\n",
       "  <thead>\n",
       "    <tr style=\"text-align: right;\">\n",
       "      <th></th>\n",
       "      <th>Name</th>\n",
       "    </tr>\n",
       "  </thead>\n",
       "  <tbody>\n",
       "    <tr>\n",
       "      <th>0</th>\n",
       "      <td>NaN</td>\n",
       "    </tr>\n",
       "    <tr>\n",
       "      <th>1</th>\n",
       "      <td>NaN</td>\n",
       "    </tr>\n",
       "    <tr>\n",
       "      <th>2</th>\n",
       "      <td>NaN</td>\n",
       "    </tr>\n",
       "    <tr>\n",
       "      <th>3</th>\n",
       "      <td>NaN</td>\n",
       "    </tr>\n",
       "    <tr>\n",
       "      <th>4</th>\n",
       "      <td>NaN</td>\n",
       "    </tr>\n",
       "    <tr>\n",
       "      <th>5</th>\n",
       "      <td>NaN</td>\n",
       "    </tr>\n",
       "  </tbody>\n",
       "</table>\n",
       "</div>"
      ],
      "text/plain": [
       "   Name\n",
       "0   NaN\n",
       "1   NaN\n",
       "2   NaN\n",
       "3   NaN\n",
       "4   NaN\n",
       "5   NaN"
      ]
     },
     "execution_count": 11,
     "metadata": {},
     "output_type": "execute_result"
    }
   ],
   "source": [
    "space_dataDF"
   ]
  },
  {
   "cell_type": "code",
   "execution_count": 13,
   "metadata": {},
   "outputs": [],
   "source": [
    "space_dataDFb = DataFrame(space_data,columns=['name'])"
   ]
  },
  {
   "cell_type": "code",
   "execution_count": 14,
   "metadata": {},
   "outputs": [
    {
     "data": {
      "text/html": [
       "<div>\n",
       "<style scoped>\n",
       "    .dataframe tbody tr th:only-of-type {\n",
       "        vertical-align: middle;\n",
       "    }\n",
       "\n",
       "    .dataframe tbody tr th {\n",
       "        vertical-align: top;\n",
       "    }\n",
       "\n",
       "    .dataframe thead th {\n",
       "        text-align: right;\n",
       "    }\n",
       "</style>\n",
       "<table border=\"1\" class=\"dataframe\">\n",
       "  <thead>\n",
       "    <tr style=\"text-align: right;\">\n",
       "      <th></th>\n",
       "      <th>name</th>\n",
       "    </tr>\n",
       "  </thead>\n",
       "  <tbody>\n",
       "    <tr>\n",
       "      <th>0</th>\n",
       "      <td>VAFB SLC 3W</td>\n",
       "    </tr>\n",
       "    <tr>\n",
       "      <th>1</th>\n",
       "      <td>CCAFS SLC 40</td>\n",
       "    </tr>\n",
       "    <tr>\n",
       "      <th>2</th>\n",
       "      <td>STLS</td>\n",
       "    </tr>\n",
       "    <tr>\n",
       "      <th>3</th>\n",
       "      <td>Kwajalein Atoll</td>\n",
       "    </tr>\n",
       "    <tr>\n",
       "      <th>4</th>\n",
       "      <td>VAFB SLC 4E</td>\n",
       "    </tr>\n",
       "    <tr>\n",
       "      <th>5</th>\n",
       "      <td>KSC LC 39A</td>\n",
       "    </tr>\n",
       "  </tbody>\n",
       "</table>\n",
       "</div>"
      ],
      "text/plain": [
       "              name\n",
       "0      VAFB SLC 3W\n",
       "1     CCAFS SLC 40\n",
       "2             STLS\n",
       "3  Kwajalein Atoll\n",
       "4      VAFB SLC 4E\n",
       "5       KSC LC 39A"
      ]
     },
     "execution_count": 14,
     "metadata": {},
     "output_type": "execute_result"
    }
   ],
   "source": [
    "space_dataDFb"
   ]
  },
  {
   "cell_type": "code",
   "execution_count": 19,
   "metadata": {},
   "outputs": [],
   "source": [
    "space_dataDFc = DataFrame(space_data,columns=['name', 'status', 'location', 'region', 'latitude', 'longitude', 'vehicles_launched', 'attempted_launches', 'successful_launches', 'details'])"
   ]
  },
  {
   "cell_type": "code",
   "execution_count": 20,
   "metadata": {},
   "outputs": [
    {
     "data": {
      "text/html": [
       "<div>\n",
       "<style scoped>\n",
       "    .dataframe tbody tr th:only-of-type {\n",
       "        vertical-align: middle;\n",
       "    }\n",
       "\n",
       "    .dataframe tbody tr th {\n",
       "        vertical-align: top;\n",
       "    }\n",
       "\n",
       "    .dataframe thead th {\n",
       "        text-align: right;\n",
       "    }\n",
       "</style>\n",
       "<table border=\"1\" class=\"dataframe\">\n",
       "  <thead>\n",
       "    <tr style=\"text-align: right;\">\n",
       "      <th></th>\n",
       "      <th>name</th>\n",
       "      <th>status</th>\n",
       "      <th>location</th>\n",
       "      <th>region</th>\n",
       "      <th>latitude</th>\n",
       "      <th>longitude</th>\n",
       "      <th>vehicles_launched</th>\n",
       "      <th>attempted_launches</th>\n",
       "      <th>successful_launches</th>\n",
       "      <th>details</th>\n",
       "    </tr>\n",
       "  </thead>\n",
       "  <tbody>\n",
       "    <tr>\n",
       "      <th>0</th>\n",
       "      <td>VAFB SLC 3W</td>\n",
       "      <td>retired</td>\n",
       "      <td>{'name': 'Vandenberg Air Force Base', 'region'...</td>\n",
       "      <td>NaN</td>\n",
       "      <td>NaN</td>\n",
       "      <td>NaN</td>\n",
       "      <td>[Falcon 1]</td>\n",
       "      <td>0</td>\n",
       "      <td>0</td>\n",
       "      <td>SpaceX original west coast launch pad for Falc...</td>\n",
       "    </tr>\n",
       "    <tr>\n",
       "      <th>1</th>\n",
       "      <td>CCAFS SLC 40</td>\n",
       "      <td>active</td>\n",
       "      <td>{'name': 'Cape Canaveral', 'region': 'Florida'...</td>\n",
       "      <td>NaN</td>\n",
       "      <td>NaN</td>\n",
       "      <td>NaN</td>\n",
       "      <td>[Falcon 9]</td>\n",
       "      <td>58</td>\n",
       "      <td>56</td>\n",
       "      <td>SpaceX primary Falcon 9 launch pad, where all ...</td>\n",
       "    </tr>\n",
       "    <tr>\n",
       "      <th>2</th>\n",
       "      <td>STLS</td>\n",
       "      <td>under construction</td>\n",
       "      <td>{'name': 'Boca Chica Village', 'region': 'Texa...</td>\n",
       "      <td>NaN</td>\n",
       "      <td>NaN</td>\n",
       "      <td>NaN</td>\n",
       "      <td>[Falcon 9]</td>\n",
       "      <td>0</td>\n",
       "      <td>0</td>\n",
       "      <td>SpaceX new launch site currently under constru...</td>\n",
       "    </tr>\n",
       "    <tr>\n",
       "      <th>3</th>\n",
       "      <td>Kwajalein Atoll</td>\n",
       "      <td>retired</td>\n",
       "      <td>{'name': 'Omelek Island', 'region': 'Marshall ...</td>\n",
       "      <td>NaN</td>\n",
       "      <td>NaN</td>\n",
       "      <td>NaN</td>\n",
       "      <td>[Falcon 1]</td>\n",
       "      <td>5</td>\n",
       "      <td>2</td>\n",
       "      <td>SpaceX original launch site, where all of the ...</td>\n",
       "    </tr>\n",
       "    <tr>\n",
       "      <th>4</th>\n",
       "      <td>VAFB SLC 4E</td>\n",
       "      <td>active</td>\n",
       "      <td>{'name': 'Vandenberg Air Force Base', 'region'...</td>\n",
       "      <td>NaN</td>\n",
       "      <td>NaN</td>\n",
       "      <td>NaN</td>\n",
       "      <td>[Falcon 9]</td>\n",
       "      <td>15</td>\n",
       "      <td>15</td>\n",
       "      <td>SpaceX primary west coast launch pad for polar...</td>\n",
       "    </tr>\n",
       "    <tr>\n",
       "      <th>5</th>\n",
       "      <td>KSC LC 39A</td>\n",
       "      <td>active</td>\n",
       "      <td>{'name': 'Cape Canaveral', 'region': 'Florida'...</td>\n",
       "      <td>NaN</td>\n",
       "      <td>NaN</td>\n",
       "      <td>NaN</td>\n",
       "      <td>[Falcon 9, Falcon Heavy]</td>\n",
       "      <td>26</td>\n",
       "      <td>25</td>\n",
       "      <td>NASA historic launch pad that launched most of...</td>\n",
       "    </tr>\n",
       "  </tbody>\n",
       "</table>\n",
       "</div>"
      ],
      "text/plain": [
       "              name              status  \\\n",
       "0      VAFB SLC 3W             retired   \n",
       "1     CCAFS SLC 40              active   \n",
       "2             STLS  under construction   \n",
       "3  Kwajalein Atoll             retired   \n",
       "4      VAFB SLC 4E              active   \n",
       "5       KSC LC 39A              active   \n",
       "\n",
       "                                            location  region  latitude  \\\n",
       "0  {'name': 'Vandenberg Air Force Base', 'region'...     NaN       NaN   \n",
       "1  {'name': 'Cape Canaveral', 'region': 'Florida'...     NaN       NaN   \n",
       "2  {'name': 'Boca Chica Village', 'region': 'Texa...     NaN       NaN   \n",
       "3  {'name': 'Omelek Island', 'region': 'Marshall ...     NaN       NaN   \n",
       "4  {'name': 'Vandenberg Air Force Base', 'region'...     NaN       NaN   \n",
       "5  {'name': 'Cape Canaveral', 'region': 'Florida'...     NaN       NaN   \n",
       "\n",
       "   longitude         vehicles_launched  attempted_launches  \\\n",
       "0        NaN                [Falcon 1]                   0   \n",
       "1        NaN                [Falcon 9]                  58   \n",
       "2        NaN                [Falcon 9]                   0   \n",
       "3        NaN                [Falcon 1]                   5   \n",
       "4        NaN                [Falcon 9]                  15   \n",
       "5        NaN  [Falcon 9, Falcon Heavy]                  26   \n",
       "\n",
       "   successful_launches                                            details  \n",
       "0                    0  SpaceX original west coast launch pad for Falc...  \n",
       "1                   56  SpaceX primary Falcon 9 launch pad, where all ...  \n",
       "2                    0  SpaceX new launch site currently under constru...  \n",
       "3                    2  SpaceX original launch site, where all of the ...  \n",
       "4                   15  SpaceX primary west coast launch pad for polar...  \n",
       "5                   25  NASA historic launch pad that launched most of...  "
      ]
     },
     "execution_count": 20,
     "metadata": {},
     "output_type": "execute_result"
    }
   ],
   "source": [
    "space_dataDFc"
   ]
  },
  {
   "cell_type": "code",
   "execution_count": 24,
   "metadata": {},
   "outputs": [
    {
     "ename": "SyntaxError",
     "evalue": "invalid syntax (<ipython-input-24-cc1c39438c43>, line 2)",
     "output_type": "error",
     "traceback": [
      "\u001b[0;36m  File \u001b[0;32m\"<ipython-input-24-cc1c39438c43>\"\u001b[0;36m, line \u001b[0;32m2\u001b[0m\n\u001b[0;31m    if successful_launches > 0\u001b[0m\n\u001b[0m                              ^\u001b[0m\n\u001b[0;31mSyntaxError\u001b[0m\u001b[0;31m:\u001b[0m invalid syntax\n"
     ]
    }
   ],
   "source": [
    "for i in space_dataDFc:\n",
    "    if successful_launches > 0\n",
    "print(\"This launched successfully!\")"
   ]
  },
  {
   "cell_type": "code",
   "execution_count": null,
   "metadata": {},
   "outputs": [],
   "source": []
  }
 ],
 "metadata": {
  "kernelspec": {
   "display_name": "Python 3",
   "language": "python",
   "name": "python3"
  },
  "language_info": {
   "codemirror_mode": {
    "name": "ipython",
    "version": 3
   },
   "file_extension": ".py",
   "mimetype": "text/x-python",
   "name": "python",
   "nbconvert_exporter": "python",
   "pygments_lexer": "ipython3",
   "version": "3.8.3"
  }
 },
 "nbformat": 4,
 "nbformat_minor": 4
}
